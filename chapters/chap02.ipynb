{
  "cells": [
    {
      "cell_type": "markdown",
      "metadata": {
        "id": "view-in-github",
        "colab_type": "text"
      },
      "source": [
        "<a href=\"https://colab.research.google.com/github/walleWorks/Bookread/blob/main/chapters/chap02.ipynb\" target=\"_parent\"><img src=\"https://colab.research.google.com/assets/colab-badge.svg\" alt=\"Open In Colab\"/></a>"
      ]
    },
    {
      "cell_type": "markdown",
      "id": "1331faa1",
      "metadata": {
        "id": "1331faa1"
      },
      "source": [
        "You can order print and ebook versions of *Think Python 3e* from\n",
        "[Bookshop.org](https://bookshop.org/a/98697/9781098155438) and\n",
        "[Amazon](https://www.amazon.com/_/dp/1098155432?smid=ATVPDKIKX0DER&_encoding=UTF8&tag=oreilly20-20&_encoding=UTF8&tag=greenteapre01-20&linkCode=ur2&linkId=e2a529f94920295d27ec8a06e757dc7c&camp=1789&creative=9325)."
      ]
    },
    {
      "cell_type": "code",
      "execution_count": 13,
      "id": "1a0a6ff4",
      "metadata": {
        "tags": [],
        "id": "1a0a6ff4"
      },
      "outputs": [],
      "source": [
        "from os.path import basename, exists\n",
        "\n",
        "def download(url):\n",
        "    filename = basename(url)\n",
        "    if not exists(filename):\n",
        "        from urllib.request import urlretrieve\n",
        "\n",
        "        local, _ = urlretrieve(url, filename)\n",
        "        print(\"Downloaded \" + str(local))\n",
        "    return filename\n",
        "\n",
        "download('https://github.com/AllenDowney/ThinkPython/raw/v3/thinkpython.py');\n",
        "download('https://github.com/AllenDowney/ThinkPython/raw/v3/diagram.py');\n",
        "\n",
        "import thinkpython"
      ]
    },
    {
      "cell_type": "markdown",
      "id": "d0286422",
      "metadata": {
        "id": "d0286422"
      },
      "source": [
        "# Variables and Statements\n",
        "\n",
        "In the previous chapter, we used operators to write expressions that perform arithmetic computations.\n",
        "\n",
        "In this chapter, you'll learn about variables and statements, the `import` statement, and the `print` function.\n",
        "And I'll introduce more of the vocabulary we use to talk about programs, including \"argument\" and \"module\".\n"
      ]
    },
    {
      "cell_type": "markdown",
      "id": "4ac44f0c",
      "metadata": {
        "id": "4ac44f0c"
      },
      "source": [
        "## Variables\n",
        "\n",
        "A **variable** is a name that refers to a value.\n",
        "To create a variable, we can write a **assignment statement** like this."
      ]
    },
    {
      "cell_type": "code",
      "execution_count": 2,
      "id": "59f6db42",
      "metadata": {
        "id": "59f6db42"
      },
      "outputs": [],
      "source": [
        "n = 17"
      ]
    },
    {
      "cell_type": "markdown",
      "id": "52f187f1",
      "metadata": {
        "id": "52f187f1"
      },
      "source": [
        "An assignment statement has three parts: the name of the variable on the left, the equals operator, `=`, and an expression on the right.\n",
        "In this example, the expression is an integer.\n",
        "In the following example, the expression is a floating-point number."
      ]
    },
    {
      "cell_type": "code",
      "execution_count": 3,
      "id": "1301f6af",
      "metadata": {
        "id": "1301f6af"
      },
      "outputs": [],
      "source": [
        "pi = 3.141592653589793"
      ]
    },
    {
      "cell_type": "markdown",
      "id": "3e27e65c",
      "metadata": {
        "id": "3e27e65c"
      },
      "source": [
        "And in the following example, the expression is a string."
      ]
    },
    {
      "cell_type": "code",
      "execution_count": 4,
      "id": "f7adb732",
      "metadata": {
        "id": "f7adb732"
      },
      "outputs": [],
      "source": [
        "message = 'And now for something completely different'"
      ]
    },
    {
      "cell_type": "markdown",
      "id": "cb5916ea",
      "metadata": {
        "id": "cb5916ea"
      },
      "source": [
        "When you run an assignment statement, there is no output.\n",
        "Python creates the variable and gives it a value, but the assignment statement has no visible effect.\n",
        "However, after creating a variable, you can use it as an expression.\n",
        "So we can display the value of `message` like this:"
      ]
    },
    {
      "cell_type": "code",
      "execution_count": 5,
      "id": "6bcc0a66",
      "metadata": {
        "colab": {
          "base_uri": "https://localhost:8080/",
          "height": 35
        },
        "id": "6bcc0a66",
        "outputId": "09a638b1-94ab-4c21-d99c-1fca83623eaa"
      },
      "outputs": [
        {
          "output_type": "execute_result",
          "data": {
            "text/plain": [
              "'And now for something completely different'"
            ],
            "application/vnd.google.colaboratory.intrinsic+json": {
              "type": "string"
            }
          },
          "metadata": {},
          "execution_count": 5
        }
      ],
      "source": [
        "message"
      ]
    },
    {
      "cell_type": "markdown",
      "id": "e3fd81de",
      "metadata": {
        "id": "e3fd81de"
      },
      "source": [
        "You can also use a variable as part of an expression with arithmetic operators."
      ]
    },
    {
      "cell_type": "code",
      "execution_count": 6,
      "id": "3f11f497",
      "metadata": {
        "colab": {
          "base_uri": "https://localhost:8080/"
        },
        "id": "3f11f497",
        "outputId": "55adb212-4ceb-498d-a770-562deefa7923"
      },
      "outputs": [
        {
          "output_type": "execute_result",
          "data": {
            "text/plain": [
              "42"
            ]
          },
          "metadata": {},
          "execution_count": 6
        }
      ],
      "source": [
        "n + 25"
      ]
    },
    {
      "cell_type": "code",
      "execution_count": 7,
      "id": "6b2dafea",
      "metadata": {
        "colab": {
          "base_uri": "https://localhost:8080/"
        },
        "id": "6b2dafea",
        "outputId": "f771ed6a-de87-456a-d314-1c5112f96722"
      },
      "outputs": [
        {
          "output_type": "execute_result",
          "data": {
            "text/plain": [
              "6.283185307179586"
            ]
          },
          "metadata": {},
          "execution_count": 7
        }
      ],
      "source": [
        "2 * pi"
      ]
    },
    {
      "cell_type": "markdown",
      "id": "97396e7d",
      "metadata": {
        "id": "97396e7d"
      },
      "source": [
        "And you can use a variable when you call a function."
      ]
    },
    {
      "cell_type": "code",
      "execution_count": 8,
      "id": "72c45ac5",
      "metadata": {
        "colab": {
          "base_uri": "https://localhost:8080/"
        },
        "id": "72c45ac5",
        "outputId": "dd091b41-f064-4afd-dfce-4db4e500f8e4"
      },
      "outputs": [
        {
          "output_type": "execute_result",
          "data": {
            "text/plain": [
              "3"
            ]
          },
          "metadata": {},
          "execution_count": 8
        }
      ],
      "source": [
        "round(pi)"
      ]
    },
    {
      "cell_type": "code",
      "execution_count": 9,
      "id": "6bf81c52",
      "metadata": {
        "colab": {
          "base_uri": "https://localhost:8080/"
        },
        "id": "6bf81c52",
        "outputId": "d75a53b3-9de5-4d15-9fa7-aae331a4519b"
      },
      "outputs": [
        {
          "output_type": "execute_result",
          "data": {
            "text/plain": [
              "42"
            ]
          },
          "metadata": {},
          "execution_count": 9
        }
      ],
      "source": [
        "len(message)"
      ]
    },
    {
      "cell_type": "markdown",
      "id": "397d9da3",
      "metadata": {
        "id": "397d9da3"
      },
      "source": [
        "## State diagrams\n",
        "\n",
        "A common way to represent variables on paper is to write the name with\n",
        "an arrow pointing to its value."
      ]
    },
    {
      "cell_type": "code",
      "execution_count": 12,
      "id": "2c25e84e",
      "metadata": {
        "tags": [],
        "id": "2c25e84e"
      },
      "outputs": [],
      "source": [
        "import math\n",
        "\n",
        "from diagram import make_binding, Frame\n",
        "\n",
        "binding = make_binding(\"message\", 'And now for something completely different')\n",
        "binding2 = make_binding(\"n\", 17)\n",
        "binding3 = make_binding(\"pi\", 3.141592653589793)\n",
        "\n",
        "frame = Frame([binding2, binding3, binding])"
      ]
    },
    {
      "cell_type": "code",
      "execution_count": 14,
      "id": "5b27a635",
      "metadata": {
        "tags": [],
        "colab": {
          "base_uri": "https://localhost:8080/",
          "height": 138
        },
        "id": "5b27a635",
        "outputId": "43df76de-cfb6-45b8-e3fe-9b9f3442faef"
      },
      "outputs": [
        {
          "output_type": "display_data",
          "data": {
            "text/plain": [
              "<Figure size 362x101 with 1 Axes>"
            ],
            "image/png": "[encoded data removed]"
          },
          "metadata": {}
        }
      ],
      "source": [
        "from diagram import diagram, adjust\n",
        "\n",
        "\n",
        "width, height, x, y = [3.62, 1.01, 0.6, 0.76]\n",
        "ax = diagram(width, height)\n",
        "bbox = frame.draw(ax, x, y, dy=-0.25)\n",
        "# adjust(x, y, bbox)"
      ]
    },
    {
      "cell_type": "markdown",
      "id": "6f40da93",
      "metadata": {
        "id": "6f40da93"
      },
      "source": [
        "This kind of figure is called a **state diagram** because it shows what state each of the variables is in (think of it as the variable's state of mind).\n",
        "We'll use state diagrams throughout the book to represent a model of how Python stores variables and their values."
      ]
    },
    {
      "cell_type": "markdown",
      "id": "ba252c85",
      "metadata": {
        "id": "ba252c85"
      },
      "source": [
        "## Variable names\n",
        "\n",
        "Variable names can be as long as you like. They can contain both letters and numbers, but they can't begin with a number.\n",
        "It is legal to use uppercase letters, but it is conventional to use only lower case for\n",
        "variable names.\n",
        "\n",
        "The only punctuation that can appear in a variable name is the underscore character, `_`. It is often used in names with multiple words, such as `your_name` or  `airspeed_of_unladen_swallow`.\n",
        "\n",
        "If you give a variable an illegal name, you get a syntax error.\n",
        "The name `million!` is illegal because it contains punctuation."
      ]
    },
    {
      "cell_type": "code",
      "execution_count": 15,
      "id": "ac2620ef",
      "metadata": {
        "tags": [],
        "colab": {
          "base_uri": "https://localhost:8080/",
          "height": 108
        },
        "id": "ac2620ef",
        "outputId": "e9069444-b91d-4f3a-bddc-406bf23bd67d"
      },
      "outputs": [
        {
          "output_type": "error",
          "ename": "SyntaxError",
          "evalue": "invalid syntax (ipython-input-15-4061783710.py, line 1)",
          "traceback": [
            "\u001b[0;36m  File \u001b[0;32m\"/tmp/ipython-input-15-4061783710.py\"\u001b[0;36m, line \u001b[0;32m1\u001b[0m\n\u001b[0;31m    million! = 1000000\u001b[0m\n\u001b[0m           ^\u001b[0m\n\u001b[0;31mSyntaxError\u001b[0m\u001b[0;31m:\u001b[0m invalid syntax\n"
          ]
        }
      ],
      "source": [
        "%%expect SyntaxError\n",
        "\n",
        "million! = 1000000"
      ]
    },
    {
      "cell_type": "markdown",
      "id": "a1cefe3e",
      "metadata": {
        "id": "a1cefe3e"
      },
      "source": [
        "`76trombones` is illegal because it starts with a number."
      ]
    },
    {
      "cell_type": "code",
      "execution_count": 16,
      "id": "1a8b8382",
      "metadata": {
        "tags": [],
        "colab": {
          "base_uri": "https://localhost:8080/",
          "height": 108
        },
        "id": "1a8b8382",
        "outputId": "1f790ac4-ea4d-4abe-f956-f5b900eeca84"
      },
      "outputs": [
        {
          "output_type": "error",
          "ename": "SyntaxError",
          "evalue": "invalid decimal literal (ipython-input-16-3636686625.py, line 1)",
          "traceback": [
            "\u001b[0;36m  File \u001b[0;32m\"/tmp/ipython-input-16-3636686625.py\"\u001b[0;36m, line \u001b[0;32m1\u001b[0m\n\u001b[0;31m    76trombones = 'big parade'\u001b[0m\n\u001b[0m     ^\u001b[0m\n\u001b[0;31mSyntaxError\u001b[0m\u001b[0;31m:\u001b[0m invalid decimal literal\n"
          ]
        }
      ],
      "source": [
        "%%expect SyntaxError\n",
        "\n",
        "76trombones = 'big parade'"
      ]
    },
    {
      "cell_type": "markdown",
      "id": "94aa7e60",
      "metadata": {
        "id": "94aa7e60"
      },
      "source": [
        "`class` is also illegal, but it might not be obvious why."
      ]
    },
    {
      "cell_type": "code",
      "execution_count": 17,
      "id": "b6938851",
      "metadata": {
        "tags": [],
        "colab": {
          "base_uri": "https://localhost:8080/",
          "height": 108
        },
        "id": "b6938851",
        "outputId": "971ab5c3-e39d-40b5-e6f2-788c06129c28"
      },
      "outputs": [
        {
          "output_type": "error",
          "ename": "SyntaxError",
          "evalue": "invalid syntax (ipython-input-17-3285659805.py, line 1)",
          "traceback": [
            "\u001b[0;36m  File \u001b[0;32m\"/tmp/ipython-input-17-3285659805.py\"\u001b[0;36m, line \u001b[0;32m1\u001b[0m\n\u001b[0;31m    class = 'Self-Defence Against Fresh Fruit'\u001b[0m\n\u001b[0m          ^\u001b[0m\n\u001b[0;31mSyntaxError\u001b[0m\u001b[0;31m:\u001b[0m invalid syntax\n"
          ]
        }
      ],
      "source": [
        "%%expect SyntaxError\n",
        "\n",
        "class = 'Self-Defence Against Fresh Fruit'"
      ]
    },
    {
      "cell_type": "markdown",
      "id": "784cfb5c",
      "metadata": {
        "id": "784cfb5c"
      },
      "source": [
        "It turns out that `class` is a **keyword**, which is a special word used to specify the structure of a program.\n",
        "Keywords can't be used as variable names.\n",
        "\n",
        "Here's a complete list of Python's keywords:"
      ]
    },
    {
      "cell_type": "markdown",
      "id": "127c07e8",
      "metadata": {
        "id": "127c07e8"
      },
      "source": [
        "```\n",
        "False      await      else       import     pass\n",
        "None       break      except     in         raise\n",
        "True       class      finally    is         return\n",
        "and        continue   for        lambda     try\n",
        "as         def        from       nonlocal   while\n",
        "assert     del        global     not        with\n",
        "async      elif       if         or         yield\n",
        "```"
      ]
    },
    {
      "cell_type": "code",
      "execution_count": 20,
      "id": "4a8f4b3e",
      "metadata": {
        "tags": [],
        "colab": {
          "base_uri": "https://localhost:8080/"
        },
        "id": "4a8f4b3e",
        "outputId": "dde71b3b-ddf0-4d18-c8a8-7bc98fdfe4c2"
      },
      "outputs": [
        {
          "output_type": "execute_result",
          "data": {
            "text/plain": [
              "35"
            ]
          },
          "metadata": {},
          "execution_count": 20
        }
      ],
      "source": [
        "from keyword import kwlist\n",
        "\n",
        "len(kwlist)\n"
      ]
    },
    {
      "cell_type": "markdown",
      "id": "6f14d301",
      "metadata": {
        "id": "6f14d301"
      },
      "source": [
        "You don't have to memorize this list. In most development environments,\n",
        "keywords are displayed in a different color; if you try to use one as a\n",
        "variable name, you'll know."
      ]
    },
    {
      "cell_type": "markdown",
      "source": [],
      "metadata": {
        "id": "KN-XRjqxIYwB"
      },
      "id": "KN-XRjqxIYwB"
    },
    {
      "cell_type": "markdown",
      "id": "c954a3b0",
      "metadata": {
        "id": "c954a3b0"
      },
      "source": [
        "## The import statement\n",
        "\n",
        "In order to use some Python features, you have to **import** them.\n",
        "For example, the following statement imports the `math` module."
      ]
    },
    {
      "cell_type": "code",
      "execution_count": 21,
      "id": "98c268e9",
      "metadata": {
        "id": "98c268e9"
      },
      "outputs": [],
      "source": [
        "import math"
      ]
    },
    {
      "cell_type": "markdown",
      "id": "ea4f75ec",
      "metadata": {
        "id": "ea4f75ec"
      },
      "source": [
        "A **module** is a collection of variables and functions.\n",
        "The math module provides a variable called `pi` that contains the value of the mathematical constant denoted $\\pi$.\n",
        "We can display its value like this."
      ]
    },
    {
      "cell_type": "code",
      "execution_count": 22,
      "id": "47bc17c9",
      "metadata": {
        "colab": {
          "base_uri": "https://localhost:8080/"
        },
        "id": "47bc17c9",
        "outputId": "dc180dce-1d82-4615-e8da-6e6af8ecf02c"
      },
      "outputs": [
        {
          "output_type": "execute_result",
          "data": {
            "text/plain": [
              "3.141592653589793"
            ]
          },
          "metadata": {},
          "execution_count": 22
        }
      ],
      "source": [
        "math.pi"
      ]
    },
    {
      "cell_type": "markdown",
      "id": "c96106e4",
      "metadata": {
        "id": "c96106e4"
      },
      "source": [
        "To use a variable in a module, you have to use the **dot operator** (`.`) between the name of the module and the name of the variable.\n",
        "\n",
        "The math module also contains functions.\n",
        "For example, `sqrt` computes square roots."
      ]
    },
    {
      "cell_type": "code",
      "execution_count": 23,
      "id": "fd1cec63",
      "metadata": {
        "colab": {
          "base_uri": "https://localhost:8080/"
        },
        "id": "fd1cec63",
        "outputId": "805365f6-1350-44a9-ecda-7e6fa21987ec"
      },
      "outputs": [
        {
          "output_type": "execute_result",
          "data": {
            "text/plain": [
              "5.0"
            ]
          },
          "metadata": {},
          "execution_count": 23
        }
      ],
      "source": [
        "math.sqrt(25)"
      ]
    },
    {
      "cell_type": "markdown",
      "id": "185e94a3",
      "metadata": {
        "id": "185e94a3"
      },
      "source": [
        "And `pow` raises one number to the power of a second number."
      ]
    },
    {
      "cell_type": "code",
      "execution_count": 24,
      "id": "87316ddd",
      "metadata": {
        "colab": {
          "base_uri": "https://localhost:8080/"
        },
        "id": "87316ddd",
        "outputId": "aa71b6fc-c1e8-48a8-94b9-62f33423b929"
      },
      "outputs": [
        {
          "output_type": "execute_result",
          "data": {
            "text/plain": [
              "25.0"
            ]
          },
          "metadata": {},
          "execution_count": 24
        }
      ],
      "source": [
        "math.pow(5, 2)"
      ]
    },
    {
      "cell_type": "markdown",
      "id": "5df25a9a",
      "metadata": {
        "id": "5df25a9a"
      },
      "source": [
        "At this point we've seen two ways to raise a number to a power: we can use the `math.pow` function or the exponentiation operator, `**`.\n",
        "Either one is fine, but the operator is used more often than the function."
      ]
    },
    {
      "cell_type": "markdown",
      "id": "6538f22b",
      "metadata": {
        "id": "6538f22b"
      },
      "source": [
        "## Expressions and statements\n",
        "\n",
        "So far, we've seen a few kinds of expressions.\n",
        "An expression can be a single value, like an integer, floating-point number, or string.\n",
        "It can also be a collection of values and operators.\n",
        "And it can include variable names and function calls.\n",
        "Here's an expression that includes several of these elements."
      ]
    },
    {
      "cell_type": "code",
      "execution_count": 25,
      "id": "7f0b92df",
      "metadata": {
        "colab": {
          "base_uri": "https://localhost:8080/"
        },
        "id": "7f0b92df",
        "outputId": "e126cb71-e8f4-4ae8-c066-669f151bf283"
      },
      "outputs": [
        {
          "output_type": "execute_result",
          "data": {
            "text/plain": [
              "42"
            ]
          },
          "metadata": {},
          "execution_count": 25
        }
      ],
      "source": [
        "19 + n + round(math.pi) * 2"
      ]
    },
    {
      "cell_type": "markdown",
      "id": "000dd2ba",
      "metadata": {
        "id": "000dd2ba"
      },
      "source": [
        "We have also seen a few kind of statements.\n",
        "A **statement** is a unit of code that has an effect, but no value.\n",
        "For example, an assignment statement creates a variable and gives it a value, but the statement itself has no value."
      ]
    },
    {
      "cell_type": "code",
      "execution_count": 26,
      "id": "b882c340",
      "metadata": {
        "id": "b882c340"
      },
      "outputs": [],
      "source": [
        "n = 17"
      ]
    },
    {
      "cell_type": "markdown",
      "id": "cff0414b",
      "metadata": {
        "id": "cff0414b"
      },
      "source": [
        "Similarly, an import statement has an effect -- it imports a module so we can use the variables and functions it contains -- but it has no visible effect."
      ]
    },
    {
      "cell_type": "code",
      "execution_count": 27,
      "id": "299817d8",
      "metadata": {
        "id": "299817d8"
      },
      "outputs": [],
      "source": [
        "import math"
      ]
    },
    {
      "cell_type": "markdown",
      "id": "2aeb1000",
      "metadata": {
        "id": "2aeb1000"
      },
      "source": [
        "Computing the value of an expression is called **evaluation**.\n",
        "Running a statement is called **execution**."
      ]
    },
    {
      "cell_type": "markdown",
      "id": "f61601e4",
      "metadata": {
        "id": "f61601e4"
      },
      "source": [
        "## The print function\n",
        "\n",
        "When you evaluate an expression, the result is displayed."
      ]
    },
    {
      "cell_type": "code",
      "execution_count": 28,
      "id": "805977c6",
      "metadata": {
        "colab": {
          "base_uri": "https://localhost:8080/"
        },
        "id": "805977c6",
        "outputId": "e98a2da9-e106-410f-dc3d-47aff03e5871"
      },
      "outputs": [
        {
          "output_type": "execute_result",
          "data": {
            "text/plain": [
              "18"
            ]
          },
          "metadata": {},
          "execution_count": 28
        }
      ],
      "source": [
        "n + 1"
      ]
    },
    {
      "cell_type": "markdown",
      "id": "efacf0fa",
      "metadata": {
        "id": "efacf0fa"
      },
      "source": [
        "But if you evaluate more than one expression, only the value of the last one is displayed."
      ]
    },
    {
      "cell_type": "code",
      "execution_count": 29,
      "id": "962e08ab",
      "metadata": {
        "colab": {
          "base_uri": "https://localhost:8080/"
        },
        "id": "962e08ab",
        "outputId": "4d6c3ed3-3b94-41be-ce95-c373c2336245"
      },
      "outputs": [
        {
          "output_type": "execute_result",
          "data": {
            "text/plain": [
              "20"
            ]
          },
          "metadata": {},
          "execution_count": 29
        }
      ],
      "source": [
        "n + 2\n",
        "n + 3"
      ]
    },
    {
      "cell_type": "markdown",
      "id": "cf2b991d",
      "metadata": {
        "id": "cf2b991d"
      },
      "source": [
        "To display more than one value, you can use the `print` function."
      ]
    },
    {
      "cell_type": "code",
      "execution_count": 30,
      "id": "a797e44d",
      "metadata": {
        "colab": {
          "base_uri": "https://localhost:8080/"
        },
        "id": "a797e44d",
        "outputId": "5d5cf5f9-d043-4099-f244-db8ca0b49e9a"
      },
      "outputs": [
        {
          "output_type": "stream",
          "name": "stdout",
          "text": [
            "19\n",
            "20\n"
          ]
        }
      ],
      "source": [
        "print(n+2)\n",
        "print(n+3)"
      ]
    },
    {
      "cell_type": "markdown",
      "id": "29af1f89",
      "metadata": {
        "id": "29af1f89"
      },
      "source": [
        "It also works with floating-point numbers and strings."
      ]
    },
    {
      "cell_type": "code",
      "execution_count": 31,
      "id": "73428520",
      "metadata": {
        "colab": {
          "base_uri": "https://localhost:8080/"
        },
        "id": "73428520",
        "outputId": "f1cd11fb-4800-45dc-a00b-ceaba738d7fd"
      },
      "outputs": [
        {
          "output_type": "stream",
          "name": "stdout",
          "text": [
            "The value of pi is approximately\n",
            "3.141592653589793\n"
          ]
        }
      ],
      "source": [
        "print('The value of pi is approximately')\n",
        "print(math.pi)"
      ]
    },
    {
      "cell_type": "markdown",
      "id": "8b4d7f4a",
      "metadata": {
        "id": "8b4d7f4a"
      },
      "source": [
        "You can also use a sequence of expressions separated by commas."
      ]
    },
    {
      "cell_type": "code",
      "execution_count": 32,
      "id": "9ad5bddd",
      "metadata": {
        "colab": {
          "base_uri": "https://localhost:8080/"
        },
        "id": "9ad5bddd",
        "outputId": "8cca0743-3f56-4fd6-ca9d-2d6a1922190c"
      },
      "outputs": [
        {
          "output_type": "stream",
          "name": "stdout",
          "text": [
            "The value of pi is approximately 3.141592653589793\n"
          ]
        }
      ],
      "source": [
        "print('The value of pi is approximately', math.pi)"
      ]
    },
    {
      "cell_type": "markdown",
      "id": "af447ec4",
      "metadata": {
        "id": "af447ec4"
      },
      "source": [
        "Notice that the `print` function puts a space between the values."
      ]
    },
    {
      "cell_type": "markdown",
      "id": "7c73a2fa",
      "metadata": {
        "id": "7c73a2fa"
      },
      "source": [
        "## Arguments\n",
        "\n",
        "When you call a function, the expression in parenthesis is called an **argument**.\n",
        "Normally I would explain why, but in this case the technical meaning of a term has almost nothing to do with the common meaning of the word, so I won't even try.\n",
        "\n",
        "Some of the functions we've seen so far take only one argument, like `int`."
      ]
    },
    {
      "cell_type": "code",
      "execution_count": 33,
      "id": "060c60cf",
      "metadata": {
        "colab": {
          "base_uri": "https://localhost:8080/"
        },
        "id": "060c60cf",
        "outputId": "07e352a1-4916-4aeb-a5c7-b1d9627eacc8"
      },
      "outputs": [
        {
          "output_type": "execute_result",
          "data": {
            "text/plain": [
              "101"
            ]
          },
          "metadata": {},
          "execution_count": 33
        }
      ],
      "source": [
        "int('101')"
      ]
    },
    {
      "cell_type": "markdown",
      "id": "c4ad4f2c",
      "metadata": {
        "id": "c4ad4f2c"
      },
      "source": [
        "Some take two, like `math.pow`."
      ]
    },
    {
      "cell_type": "code",
      "execution_count": 34,
      "id": "2875d9e0",
      "metadata": {
        "colab": {
          "base_uri": "https://localhost:8080/"
        },
        "id": "2875d9e0",
        "outputId": "f3aa88b2-3050-40e1-e8a1-4786d832321f"
      },
      "outputs": [
        {
          "output_type": "execute_result",
          "data": {
            "text/plain": [
              "25.0"
            ]
          },
          "metadata": {},
          "execution_count": 34
        }
      ],
      "source": [
        "math.pow(5, 2)"
      ]
    },
    {
      "cell_type": "markdown",
      "id": "17293749",
      "metadata": {
        "id": "17293749"
      },
      "source": [
        "Some can take additional arguments that are optional.\n",
        "For example, `int` can take a second argument that specifies the base of the number."
      ]
    },
    {
      "cell_type": "code",
      "execution_count": 35,
      "id": "43b9cf38",
      "metadata": {
        "colab": {
          "base_uri": "https://localhost:8080/"
        },
        "id": "43b9cf38",
        "outputId": "cc3049c9-f69f-433b-ecc2-199923b6078a"
      },
      "outputs": [
        {
          "output_type": "execute_result",
          "data": {
            "text/plain": [
              "5"
            ]
          },
          "metadata": {},
          "execution_count": 35
        }
      ],
      "source": [
        "int('101', 2)"
      ]
    },
    {
      "cell_type": "markdown",
      "id": "c95589a1",
      "metadata": {
        "id": "c95589a1"
      },
      "source": [
        "The sequence of digits `101` in base 2 represents the number 5 in base 10.\n",
        "\n",
        "`round` also takes an optional second argument, which is the number of decimal places to round off to."
      ]
    },
    {
      "cell_type": "code",
      "execution_count": 36,
      "id": "e8a21d05",
      "metadata": {
        "colab": {
          "base_uri": "https://localhost:8080/"
        },
        "id": "e8a21d05",
        "outputId": "ce622121-89bb-4dff-95ff-6771461261b2"
      },
      "outputs": [
        {
          "output_type": "execute_result",
          "data": {
            "text/plain": [
              "3.142"
            ]
          },
          "metadata": {},
          "execution_count": 36
        }
      ],
      "source": [
        "round(math.pi, 3)"
      ]
    },
    {
      "cell_type": "markdown",
      "id": "21e4a448",
      "metadata": {
        "id": "21e4a448"
      },
      "source": [
        "Some functions can take any number of arguments, like `print`."
      ]
    },
    {
      "cell_type": "code",
      "execution_count": 37,
      "id": "724128f4",
      "metadata": {
        "colab": {
          "base_uri": "https://localhost:8080/"
        },
        "id": "724128f4",
        "outputId": "a191ee9c-86e2-432d-af00-f0cf3492dd52"
      },
      "outputs": [
        {
          "output_type": "stream",
          "name": "stdout",
          "text": [
            "Any number of arguments\n"
          ]
        }
      ],
      "source": [
        "print('Any', 'number', 'of', 'arguments')"
      ]
    },
    {
      "cell_type": "markdown",
      "id": "667cff14",
      "metadata": {
        "id": "667cff14"
      },
      "source": [
        "If you call a function and provide too many arguments, that's a `TypeError`."
      ]
    },
    {
      "cell_type": "code",
      "execution_count": 38,
      "id": "69295e52",
      "metadata": {
        "tags": [],
        "colab": {
          "base_uri": "https://localhost:8080/",
          "height": 55
        },
        "id": "69295e52",
        "outputId": "01d2398b-0a46-4870-fd19-43dfcd176f9f"
      },
      "outputs": [
        {
          "output_type": "error",
          "ename": "TypeError",
          "evalue": "float expected at most 1 argument, got 2",
          "traceback": [
            "\u001b[0;31mTypeError\u001b[0m\u001b[0;31m:\u001b[0m float expected at most 1 argument, got 2\n"
          ]
        }
      ],
      "source": [
        "%%expect TypeError\n",
        "\n",
        "float('123.0', 2)"
      ]
    },
    {
      "cell_type": "markdown",
      "id": "5103368e",
      "metadata": {
        "id": "5103368e"
      },
      "source": [
        "If you provide too few arguments, that's also a `TypeError`."
      ]
    },
    {
      "cell_type": "code",
      "execution_count": 39,
      "id": "edec7064",
      "metadata": {
        "tags": [],
        "colab": {
          "base_uri": "https://localhost:8080/",
          "height": 55
        },
        "id": "edec7064",
        "outputId": "40fa663a-30cf-44e8-ed9d-31cd61c45da2"
      },
      "outputs": [
        {
          "output_type": "error",
          "ename": "TypeError",
          "evalue": "pow expected 2 arguments, got 1",
          "traceback": [
            "\u001b[0;31mTypeError\u001b[0m\u001b[0;31m:\u001b[0m pow expected 2 arguments, got 1\n"
          ]
        }
      ],
      "source": [
        "%%expect TypeError\n",
        "\n",
        "math.pow(2)"
      ]
    },
    {
      "cell_type": "markdown",
      "id": "5333c416",
      "metadata": {
        "id": "5333c416"
      },
      "source": [
        "And if you provide an argument with a type the function can't handle, that's a `TypeError`, too."
      ]
    },
    {
      "cell_type": "code",
      "execution_count": 40,
      "id": "f86b2896",
      "metadata": {
        "tags": [],
        "colab": {
          "base_uri": "https://localhost:8080/",
          "height": 55
        },
        "id": "f86b2896",
        "outputId": "db81d80c-89b3-4db6-ab8f-6bd17f199778"
      },
      "outputs": [
        {
          "output_type": "error",
          "ename": "TypeError",
          "evalue": "must be real number, not str",
          "traceback": [
            "\u001b[0;31mTypeError\u001b[0m\u001b[0;31m:\u001b[0m must be real number, not str\n"
          ]
        }
      ],
      "source": [
        "%%expect TypeError\n",
        "\n",
        "math.sqrt('123')"
      ]
    },
    {
      "cell_type": "markdown",
      "id": "548828af",
      "metadata": {
        "id": "548828af"
      },
      "source": [
        "This kind of checking can be annoying when you are getting started, but it helps you detect and correct errors."
      ]
    },
    {
      "cell_type": "markdown",
      "id": "be2b6a9b",
      "metadata": {
        "id": "be2b6a9b"
      },
      "source": [
        "## Comments\n",
        "\n",
        "As programs get bigger and more complicated, they get more difficult to read.\n",
        "Formal languages are dense, and it is often difficult to look at a piece of code and figure out what it is doing and why.\n",
        "\n",
        "For this reason, it is a good idea to add notes to your programs to explain in natural language what the program is doing.\n",
        "These notes are called **comments**, and they start with the `#` symbol."
      ]
    },
    {
      "cell_type": "code",
      "execution_count": 41,
      "id": "607893a6",
      "metadata": {
        "id": "607893a6"
      },
      "outputs": [],
      "source": [
        "# number of seconds in 42:42\n",
        "seconds = 42 * 60 + 42"
      ]
    },
    {
      "cell_type": "code",
      "source": [],
      "metadata": {
        "id": "LRp0llYdKTjh"
      },
      "id": "LRp0llYdKTjh",
      "execution_count": null,
      "outputs": []
    },
    {
      "cell_type": "markdown",
      "id": "519c83a9",
      "metadata": {
        "id": "519c83a9"
      },
      "source": [
        "In this case, the comment appears on a line by itself. You can also put\n",
        "comments at the end of a line:"
      ]
    },
    {
      "cell_type": "code",
      "execution_count": 42,
      "id": "615a11e7",
      "metadata": {
        "id": "615a11e7"
      },
      "outputs": [],
      "source": [
        "miles = 10 / 1.61     # 10 kilometers in miles"
      ]
    },
    {
      "cell_type": "markdown",
      "id": "87c8d10c",
      "metadata": {
        "id": "87c8d10c"
      },
      "source": [
        "Everything from the `#` to the end of the line is ignored---it has no\n",
        "effect on the execution of the program.\n",
        "\n",
        "Comments are most useful when they document non-obvious features of the code.\n",
        "It is reasonable to assume that the reader can figure out *what* the code does; it is more useful to explain *why*.\n",
        "\n",
        "This comment is redundant with the code and useless:"
      ]
    },
    {
      "cell_type": "code",
      "execution_count": 43,
      "id": "cc7fe2e6",
      "metadata": {
        "id": "cc7fe2e6"
      },
      "outputs": [],
      "source": [
        "v = 8     # assign 8 to v"
      ]
    },
    {
      "cell_type": "markdown",
      "id": "eb83b14a",
      "metadata": {
        "id": "eb83b14a"
      },
      "source": [
        "This comment contains useful information that is not in the code:"
      ]
    },
    {
      "cell_type": "code",
      "execution_count": 44,
      "id": "7c93a00d",
      "metadata": {
        "id": "7c93a00d"
      },
      "outputs": [],
      "source": [
        "v = 8     # velocity in miles per hour"
      ]
    },
    {
      "cell_type": "markdown",
      "id": "6cd60d4f",
      "metadata": {
        "id": "6cd60d4f"
      },
      "source": [
        "Good variable names can reduce the need for comments, but long names can\n",
        "make complex expressions hard to read, so there is a tradeoff."
      ]
    },
    {
      "cell_type": "markdown",
      "id": "7d61e416",
      "metadata": {
        "id": "7d61e416"
      },
      "source": [
        "## Debugging\n",
        "\n",
        "Three kinds of errors can occur in a program: syntax errors, runtime errors, and semantic errors.\n",
        "It is useful to distinguish between them in order to track them down more quickly.\n",
        "\n",
        "* **Syntax error**: \"Syntax\" refers to the structure of a program and the rules about that structure. If there is a syntax error anywhere in your program, Python does not run the program. It displays an error message immediately.\n",
        "\n",
        "* **Runtime error**: If there are no syntax errors in your program, it can start running. But if something goes wrong, Python displays an error message and stops. This type of error is called a runtime error. It is also called an **exception** because it indicates that something exceptional has happened.\n",
        "\n",
        "* **Semantic error**: The third type of error is \"semantic\", which means related to meaning. If there is a semantic error in your program, it runs without generating error messages, but it does not do what you intended. Identifying semantic errors can be tricky because it requires you to work backward by looking at the output of the program and trying to figure out what it is doing."
      ]
    },
    {
      "cell_type": "markdown",
      "id": "6cd52721",
      "metadata": {
        "id": "6cd52721"
      },
      "source": [
        "As we've seen, an illegal variable name is a syntax error."
      ]
    },
    {
      "cell_type": "code",
      "execution_count": 45,
      "id": "86f07f6e",
      "metadata": {
        "tags": [],
        "colab": {
          "base_uri": "https://localhost:8080/",
          "height": 108
        },
        "id": "86f07f6e",
        "outputId": "4f960dc1-e890-4fdf-9e2a-674d6ea58cff"
      },
      "outputs": [
        {
          "output_type": "error",
          "ename": "SyntaxError",
          "evalue": "invalid syntax (ipython-input-45-4061783710.py, line 1)",
          "traceback": [
            "\u001b[0;36m  File \u001b[0;32m\"/tmp/ipython-input-45-4061783710.py\"\u001b[0;36m, line \u001b[0;32m1\u001b[0m\n\u001b[0;31m    million! = 1000000\u001b[0m\n\u001b[0m           ^\u001b[0m\n\u001b[0;31mSyntaxError\u001b[0m\u001b[0;31m:\u001b[0m invalid syntax\n"
          ]
        }
      ],
      "source": [
        "%%expect SyntaxError\n",
        "\n",
        "million! = 1000000"
      ]
    },
    {
      "cell_type": "markdown",
      "id": "b8971d33",
      "metadata": {
        "id": "b8971d33"
      },
      "source": [
        "If you use an operator with a type it doesn't support, that's a runtime error."
      ]
    },
    {
      "cell_type": "code",
      "execution_count": 46,
      "id": "682395ea",
      "metadata": {
        "tags": [],
        "colab": {
          "base_uri": "https://localhost:8080/",
          "height": 55
        },
        "id": "682395ea",
        "outputId": "66bec284-5b6e-47e9-f559-5e41c33c30ce"
      },
      "outputs": [
        {
          "output_type": "error",
          "ename": "TypeError",
          "evalue": "unsupported operand type(s) for /: 'str' and 'int'",
          "traceback": [
            "\u001b[0;31mTypeError\u001b[0m\u001b[0;31m:\u001b[0m unsupported operand type(s) for /: 'str' and 'int'\n"
          ]
        }
      ],
      "source": [
        "%%expect TypeError\n",
        "\n",
        "'126' / 3"
      ]
    },
    {
      "cell_type": "markdown",
      "id": "e51fa6e2",
      "metadata": {
        "id": "e51fa6e2"
      },
      "source": [
        "Finally, here's an example of a semantic error.\n",
        "Suppose we want to compute the average of `1` and `3`, but we forget about the order of operations and write this:"
      ]
    },
    {
      "cell_type": "code",
      "execution_count": 47,
      "id": "2ff25bda",
      "metadata": {
        "colab": {
          "base_uri": "https://localhost:8080/"
        },
        "id": "2ff25bda",
        "outputId": "74efe4cd-1ab3-4f5f-f1c5-c82c18d47cfa"
      },
      "outputs": [
        {
          "output_type": "execute_result",
          "data": {
            "text/plain": [
              "2.5"
            ]
          },
          "metadata": {},
          "execution_count": 47
        }
      ],
      "source": [
        "1 + 3 / 2"
      ]
    },
    {
      "cell_type": "markdown",
      "id": "0828afc0",
      "metadata": {
        "id": "0828afc0"
      },
      "source": [
        "When this expression is evaluated, it does not produce an error message, so there is no syntax error or runtime error.\n",
        "But the result is not the average of `1` and `3`, so the program is not correct.\n",
        "This is a semantic error because the program runs but it doesn't do what's intended."
      ]
    },
    {
      "cell_type": "markdown",
      "id": "07396f3d",
      "metadata": {
        "id": "07396f3d"
      },
      "source": [
        "## Glossary\n",
        "\n",
        "**variable:**\n",
        "A name that refers to a value.\n",
        "\n",
        "**assignment statement:**\n",
        "A statement that assigns a value to a variable.\n",
        "\n",
        "**state diagram:**\n",
        "A graphical representation of a set of variables and the values they refer to.\n",
        "\n",
        "**keyword:**\n",
        "A special word used to specify the structure of a program.\n",
        "\n",
        "**import statement:**\n",
        "A statement that reads a module file so we can use the variables and functions it contains.\n",
        "\n",
        "**module:**\n",
        "A file that contains Python code, including function definitions and sometimes other statements.\n",
        "\n",
        "**dot operator:**\n",
        "The operator, `.`, used to access a function in another module by specifying the module name followed by a dot and the function name.\n",
        "\n",
        "**evaluate:**\n",
        "Perform the operations in an expression in order to compute a value.\n",
        "\n",
        "**statement:**\n",
        "One or more lines of code that represent a command or action.\n",
        "\n",
        "**execute:**\n",
        "Run a statement and do what it says.\n",
        "\n",
        "**argument:**\n",
        "A value provided to a function when the function is called.\n",
        "\n",
        "**comment:**\n",
        "Text included in a program that provides information about the program but has no effect on its execution.\n",
        "\n",
        "**runtime error:**\n",
        "An error that causes a program to display an error message and exit.\n",
        "\n",
        "**exception:**\n",
        "An error that is detected while the program is running.\n",
        "\n",
        "**semantic error:**\n",
        "An error that causes a program to do the wrong thing, but not to display an error message."
      ]
    },
    {
      "cell_type": "markdown",
      "id": "70ee273d",
      "metadata": {
        "id": "70ee273d"
      },
      "source": [
        "## Exercises"
      ]
    },
    {
      "cell_type": "code",
      "execution_count": 48,
      "id": "c9e6cab4",
      "metadata": {
        "tags": [],
        "colab": {
          "base_uri": "https://localhost:8080/"
        },
        "id": "c9e6cab4",
        "outputId": "a1fb161d-326b-4abd-d9cf-df54c0c001e9"
      },
      "outputs": [
        {
          "output_type": "stream",
          "name": "stdout",
          "text": [
            "Exception reporting mode: Verbose\n"
          ]
        }
      ],
      "source": [
        "# This cell tells Jupyter to provide detailed debugging information\n",
        "# when a runtime error occurs. Run it before working on the exercises.\n",
        "\n",
        "%xmode Verbose"
      ]
    },
    {
      "cell_type": "markdown",
      "id": "7256a9b2",
      "metadata": {
        "id": "7256a9b2"
      },
      "source": [
        "### Ask a virtual assistant\n",
        "\n",
        "Again, I encourage you to use a virtual assistant to learn more about any of the topics in this chapter.\n",
        "\n",
        "If you are curious about any of keywords I listed, you could ask \"Why is class a keyword?\" or \"Why can't variable names be keywords?\"\n",
        "\n",
        "You might have noticed that `int`, `float`, and `str` are not Python keywords.\n",
        "They are variables that represent types, and they can be used as functions.\n",
        "So it is *legal* to have a variable or function with one of those names, but it is strongly discouraged. Ask an assistant \"Why is it bad to use int, float, and str as variable names?\"\n",
        "\n",
        "Also ask, \"What are the built-in functions in Python?\"\n",
        "If you are curious about any of them, ask for more information.\n",
        "\n",
        "In this chapter we imported the `math` module and used some of the variable and functions it provides. Ask an assistant, \"What variables and functions are in the math module?\" and \"Other than math, what modules are considered core Python?\""
      ]
    },
    {
      "cell_type": "markdown",
      "id": "f92afde0",
      "metadata": {
        "id": "f92afde0"
      },
      "source": [
        "### Exercise\n",
        "\n",
        "Repeating my advice from the previous chapter, whenever you learn a new feature, you should make errors on purpose to see what goes wrong.\n",
        "\n",
        "-   We've seen that `n = 17` is legal. What about `17 = n`?\n",
        "\n",
        "-   How about `x = y = 1`?\n",
        "\n",
        "-   In some languages every statement ends with a semi-colon (`;`). What\n",
        "    happens if you put a semi-colon at the end of a Python statement?\n",
        "\n",
        "-   What if you put a period at the end of a statement?\n",
        "\n",
        "-   What happens if you spell the name of a module wrong and try to import `maath`?"
      ]
    },
    {
      "cell_type": "markdown",
      "id": "9d562609",
      "metadata": {
        "id": "9d562609"
      },
      "source": [
        "### Exercise\n",
        "Practice using the Python interpreter as a calculator:\n",
        "\n",
        "**Part 1.**  The volume of a sphere with radius $r$ is $\\frac{4}{3} \\pi r^3$.\n",
        "What is the volume of a sphere with radius 5? Start with a variable named `radius` and then assign the result to a variable named `volume`. Display the result. Add comments to indicate that `radius` is in centimeters and `volume` in cubic centimeters."
      ]
    },
    {
      "cell_type": "code",
      "execution_count": null,
      "id": "18de7d96",
      "metadata": {
        "id": "18de7d96"
      },
      "outputs": [],
      "source": [
        "# Solution goes here"
      ]
    },
    {
      "cell_type": "markdown",
      "id": "6449b12b",
      "metadata": {
        "id": "6449b12b"
      },
      "source": [
        "**Part 2.** A rule of trigonometry says that for any value of $x$, $(\\cos x)^2 + (\\sin x)^2 = 1$. Let's see if it's true for a specific value of $x$ like 42.\n",
        "\n",
        "Create a variable named `x` with this value.\n",
        "Then use `math.cos` and `math.sin` to compute the sine and cosine of $x$, and the sum of their squared.\n",
        "\n",
        "The result should be close to 1. It might not be exactly 1 because floating-point arithmetic is not exact---it is only approximately correct."
      ]
    },
    {
      "cell_type": "code",
      "execution_count": null,
      "id": "de812cff",
      "metadata": {
        "id": "de812cff"
      },
      "outputs": [],
      "source": [
        "# Solution goes here"
      ]
    },
    {
      "cell_type": "markdown",
      "id": "4986801f",
      "metadata": {
        "id": "4986801f"
      },
      "source": [
        "**Part 3.** In addition to `pi`, the other variable defined in the `math` module is `e`, which represents the base of the natural logarithm, written in math notation as $e$. If you are not familiar with this value, ask a virtual assistant \"What is `math.e`?\" Now let's compute $e^2$ three ways:\n",
        "\n",
        "* Use `math.e` and the exponentiation operator (`**`).\n",
        "\n",
        "* Use `math.pow` to raise `math.e` to the power `2`.\n",
        "\n",
        "* Use `math.exp`, which takes as an argument a value, $x$, and computes $e^x$.\n",
        "\n",
        "You might notice that the last result is slightly different from the other two.\n",
        "See if you can find out which is correct."
      ]
    },
    {
      "cell_type": "code",
      "execution_count": null,
      "id": "b4ada618",
      "metadata": {
        "id": "b4ada618"
      },
      "outputs": [],
      "source": [
        "# Solution goes here"
      ]
    },
    {
      "cell_type": "code",
      "execution_count": null,
      "id": "4424940f",
      "metadata": {
        "id": "4424940f"
      },
      "outputs": [],
      "source": [
        "# Solution goes here"
      ]
    },
    {
      "cell_type": "code",
      "execution_count": null,
      "id": "50e8393a",
      "metadata": {
        "id": "50e8393a"
      },
      "outputs": [],
      "source": [
        "# Solution goes here"
      ]
    },
    {
      "cell_type": "code",
      "execution_count": null,
      "id": "91e5a869",
      "metadata": {
        "id": "91e5a869"
      },
      "outputs": [],
      "source": []
    },
    {
      "cell_type": "markdown",
      "id": "a7f4edf8",
      "metadata": {
        "tags": [],
        "id": "a7f4edf8"
      },
      "source": [
        "[Think Python: 3rd Edition](https://allendowney.github.io/ThinkPython/index.html)\n",
        "\n",
        "Copyright 2024 [Allen B. Downey](https://allendowney.com)\n",
        "\n",
        "Code license: [MIT License](https://mit-license.org/)\n",
        "\n",
        "Text license: [Creative Commons Attribution-NonCommercial-ShareAlike 4.0 International](https://creativecommons.org/licenses/by-nc-sa/4.0/)"
      ]
    },
    {
      "cell_type": "markdown",
      "metadata": {
        "id": "65a4fc69"
      },
      "source": [
        "Python has a number of built-in functions that are always available. You don't need to import any module to use them. Here is a list of most commonly used built-in functions:\n",
        "\n",
        "*   `abs()`: Returns the absolute value of a number.\n",
        "*   `all()`: Returns `True` if all elements of an iterable are true (or if the iterable is empty).\n",
        "*   `any()`: Returns `True` if any element of an iterable is true.\n",
        "*   `ascii()`: Returns a string containing a printable representation of an object, but with the non-ASCII characters escaped.\n",
        "*   `bin()`: Converts an integer to a binary string prefixed with \"0b\".\n",
        "*   `bool()`: Converts a value to a boolean, using the standard truth testing procedure.\n",
        "*   `breakpoint()`: Enters the debugger at the call site.\n",
        "*   `bytearray()`: Returns a new array of bytes.\n",
        "*   `bytes()`: Returns a new \"bytes\" object.\n",
        "*   `callable()`: Returns `True` if the object argument appears callable, `False` otherwise.\n",
        "*   `chr()`: Returns a string representing a character whose Unicode code point is the integer `i`.\n",
        "*   `classmethod()`: Returns a class method for function.\n",
        "*   `compile()`: Compiles the source into a code or AST object.\n",
        "*   `complex()`: Returns a complex number with the value `real + imag*1j` or converts a string or number to a complex number.\n",
        "*   `delattr()`: This is a companion to `setattr()`. The arguments are an object and a string.\n",
        "*   `dict()`: Creates a new dictionary.\n",
        "*   `dir()`: Returns a list of names in the current local scope.\n",
        "*   `divmod()`: Takes two (non complex) numbers as arguments and returns a pair of numbers consisting of their quotient and remainder when using integer division.\n",
        "*   `enumerate()`: Returns an enumerate object.\n",
        "*   `eval()`: Evaluates the given source in the context of `globals` and `locals`.\n",
        "*   `exec()`: This function supports dynamic execution of Python code.\n",
        "*   `filter()`: Constructs an iterator from those elements of `iterable` for which `function` returns true.\n",
        "*   `float()`: Returns a floating point number constructed from a number or string `x`.\n",
        "*   `format()`: Convert a value to a \"formatted\" representation, as controlled by `format_spec`.\n",
        "*   `frozenset()`: Returns a new `frozenset` object whose elements are taken from `iterable`.\n",
        "*   `getattr()`: This is the counterpart of `setattr()`. The arguments are an object and a string.\n",
        "*   `globals()`: Returns a dictionary representing the current global symbol table.\n",
        "*   `hasattr()`: The arguments are an object and a string. The result is `True` if the string is the name of one of the object’s attributes, `False` if not.\n",
        "*   `hash()`: Returns the hash value of the object (if it has one).\n",
        "*   `help()`: Invokes the built-in help system.\n",
        "*   `hex()`: Converts an integer to a hexadecimal string prefixed with \"0x\" or \"0X\".\n",
        "*   `id()`: Returns the \"identity\" of an object.\n",
        "*   `input()`: Read a line from input, convert it to a string (stripping a trailing newline), and return that.\n",
        "*   `int()`: Returns an integer object constructed from a number or string `x`, or return 0 if no arguments are given.\n",
        "*   `isinstance()`: Return `True` if the `object` argument is an instance of the `classinfo` argument, or of a (direct, indirect, or virtual) subclass thereof.\n",
        "*   `issubclass()`: Return `True` if `class` is a subclass (direct, indirect, or virtual) of `classinfo`.\n",
        "*   `iter()`: Return an iterator object.\n",
        "*   `len()`: Return the length (the number of items) of an object.\n",
        "*   `list()`: Returns a new list object.\n",
        "*   `locals()`: Update and return a dictionary representing the current local symbol table.\n",
        "*   `map()`: Return an iterator that applies `function` to every item of `iterable`, yielding the results.\n",
        "*   `max()`: Return the largest item in an iterable or the largest of two or more arguments.\n",
        "*   `memoryview()`: Return a \"memory view\" object created from the given argument.\n",
        "*   `min()`: Return the smallest item in an iterable or the smallest of two or more arguments.\n",
        "*   `next()`: Retrieve the next item from the iterator by calling its `__next__()` method.\n",
        "*   `object()`: Return a new featureless object. `object` is a base for all classes.\n",
        "*   `oct()`: Converts an integer to an octal string prefixed with \"0o\".\n",
        "*   `open()`: Open `file` and return a corresponding file object.\n",
        "*   `ord()`: Return the integer that represents the object’s Unicode code point.\n",
        "*   `pow()`: Return `base` to the power `exp`; if `mod` is present, return `base` to the power `exp`, modulo `mod` (computed more efficiently than `pow(base, exp) % mod`).\n",
        "*   `print()`: Print objects to the text stream file, separated by `sep` and followed by `end`.\n",
        "*   `property()`: Return a property attribute.\n",
        "*   `range()`: Instead of being a function, `range` is actually an immutable sequence type.\n",
        "*   `repr()`: Return a string containing a printable representation of an object.\n",
        "*   `reversed()`: Return a reverse iterator.\n",
        "*   `round()`: Return number rounded to `ndigits` precision after the decimal point.\n",
        "*   `set()`: Returns a new set object, optionally with elements taken from `iterable`.\n",
        "*   `setattr()`: This is the counterpart of `getattr()`. The arguments are an object, a string and an arbitrary value.\n",
        "*   `slice()`: Return a slice object representing the set of indices specified by `range(start, stop, step)`.\n",
        "*   `sorted()`: Return a new sorted list from the items in `iterable`.\n",
        "*   `staticmethod()`: Convert a method to a static method.\n",
        "*   `str()`: Returns a `str` version of `object`.\n",
        "*   `sum()`: Sums `start` and the items of an `iterable` and returns the total.\n",
        "*   `super()`: Return a proxy object that delegates method calls to a parent or sibling class of `type`.\n",
        "*   `tuple()`: Returns a new tuple object whose elements are taken from `iterable`.\n",
        "*   `type()`: Return the type of an object or create a new type object.\n",
        "*   `vars()`: Returns the `__dict__` attribute for a module, class, instance, or other object with a `__dict__` attribute.\n",
        "*   `zip()`: Make an iterator that aggregates elements from each of the iterables.\n",
        "\n",
        "Feel free to ask about any specific function you'd like to know more about!"
      ],
      "id": "65a4fc69"
    },
    {
      "cell_type": "code",
      "metadata": {
        "colab": {
          "base_uri": "https://localhost:8080/"
        },
        "id": "06497910",
        "outputId": "1a738e2d-5c46-4b05-fe8c-5c4079f1dd20"
      },
      "source": [
        "import math\n",
        "\n",
        "# Get all names defined in the math module\n",
        "math_contents = dir(math)\n",
        "\n",
        "# Print the names (variables and functions)\n",
        "print(math.__spec__)"
      ],
      "id": "06497910",
      "execution_count": 55,
      "outputs": [
        {
          "output_type": "stream",
          "name": "stdout",
          "text": [
            "ModuleSpec(name='math', loader=<class '_frozen_importlib.BuiltinImporter'>, origin='built-in')\n"
          ]
        }
      ]
    },
    {
      "cell_type": "markdown",
      "metadata": {
        "id": "be44fb60"
      },
      "source": [
        "# Task\n",
        "List the variables and functions in the Python `math` module as a table with columns for 'Name' and 'Explanation', using the provided list of names: `['__doc__', '__loader__', '__name__', '__package__', '__spec__', 'acos', 'acosh', 'asin', 'asinh', 'atan', 'atan2', 'atanh', 'cbrt', 'ceil', 'comb', 'copysign', 'cos', 'cosh', 'degrees', 'dist', 'e', 'erf', 'erfc', 'exp', 'exp2', 'expm1', 'fabs', 'factorial', 'floor', 'fmod', 'frexp', 'fsum', 'gamma', 'gcd', 'hypot', 'inf', 'isclose', 'isfinite', 'isinf', 'isnan', 'isqrt', 'lcm', 'ldexp', 'lgamma', 'log', 'log10', 'log1p', 'log2', 'modf', 'nan', 'nextafter', 'perm', 'pi', 'pow', 'prod', 'radians', 'remainder', 'sin', 'sinh', 'sqrt', 'tan', 'tanh', 'tau', 'trunc', 'ulp']`."
      ],
      "id": "be44fb60"
    },
    {
      "cell_type": "markdown",
      "metadata": {
        "id": "3a208142"
      },
      "source": [
        "## Identify math module members\n",
        "\n",
        "### Subtask:\n",
        "Use `dir(math)` to get the list of names in the math module.\n"
      ],
      "id": "3a208142"
    },
    {
      "cell_type": "markdown",
      "metadata": {
        "id": "b9c8195a"
      },
      "source": [
        "**Reasoning**:\n",
        "Call dir(math) to get the list of names in the math module and store it in a variable as instructed.\n",
        "\n"
      ],
      "id": "b9c8195a"
    },
    {
      "cell_type": "code",
      "metadata": {
        "id": "53e8c011"
      },
      "source": [
        "math_contents = dir(math)"
      ],
      "id": "53e8c011",
      "execution_count": 56,
      "outputs": []
    },
    {
      "cell_type": "markdown",
      "metadata": {
        "id": "61a61e88"
      },
      "source": [
        "## Retrieve documentation\n",
        "\n",
        "### Subtask:\n",
        "For each name in the `math_contents` list, retrieve its documentation string (docstring) using `help()` or by accessing the `__doc__` attribute. Handle cases where a docstring might not be available.\n"
      ],
      "id": "61a61e88"
    },
    {
      "cell_type": "markdown",
      "metadata": {
        "id": "c6dbbd46"
      },
      "source": [
        "**Reasoning**:\n",
        "Iterate through the list of names in the `math` module and retrieve the documentation for each member.\n",
        "\n"
      ],
      "id": "c6dbbd46"
    },
    {
      "cell_type": "code",
      "metadata": {
        "id": "f46ed2a4"
      },
      "source": [
        "math_docs = []\n",
        "for name in math_contents:\n",
        "    try:\n",
        "        doc = getattr(math, name).__doc__\n",
        "        if doc is None or doc.strip() == \"\":\n",
        "            explanation = \"No documentation available.\"\n",
        "        else:\n",
        "            explanation = doc.strip().split('\\n')[0] # Take the first line of the docstring\n",
        "    except AttributeError:\n",
        "        explanation = \"Could not retrieve documentation.\"\n",
        "    math_docs.append({'Name': name, 'Explanation': explanation})"
      ],
      "id": "f46ed2a4",
      "execution_count": 57,
      "outputs": []
    },
    {
      "cell_type": "markdown",
      "metadata": {
        "id": "0240a5e1"
      },
      "source": [
        "## Format as a table\n",
        "\n",
        "### Subtask:\n",
        "Organize the names and their corresponding explanations into a markdown table.\n"
      ],
      "id": "0240a5e1"
    },
    {
      "cell_type": "markdown",
      "metadata": {
        "id": "7ef33818"
      },
      "source": [
        "**Reasoning**:\n",
        "Organize the names and their corresponding explanations into a markdown table.\n",
        "\n"
      ],
      "id": "7ef33818"
    },
    {
      "cell_type": "code",
      "metadata": {
        "colab": {
          "base_uri": "https://localhost:8080/"
        },
        "id": "80542f96",
        "outputId": "0e51a686-4e78-4b44-b076-e97f459debfd"
      },
      "source": [
        "markdown_table = \"| Name | Explanation |\\n\"\n",
        "markdown_table += \"|---|---|\\n\"\n",
        "\n",
        "for item in math_docs:\n",
        "    markdown_table += f\"| {item['Name']} | {item['Explanation']} |\\n\"\n",
        "\n",
        "print(markdown_table)"
      ],
      "id": "80542f96",
      "execution_count": 58,
      "outputs": [
        {
          "output_type": "stream",
          "name": "stdout",
          "text": [
            "| Name | Explanation |\n",
            "|---|---|\n",
            "| __annotations__ | dict() -> new empty dictionary |\n",
            "| __doc__ | str(object='') -> str |\n",
            "| __loader__ | Meta path import for built-in modules. |\n",
            "| __name__ | str(object='') -> str |\n",
            "| __package__ | str(object='') -> str |\n",
            "| __spec__ | The specification for a module, used for loading. |\n",
            "| acos | Return the arc cosine (measured in radians) of x. |\n",
            "| acosh | Return the inverse hyperbolic cosine of x. |\n",
            "| asin | Return the arc sine (measured in radians) of x. |\n",
            "| asinh | Return the inverse hyperbolic sine of x. |\n",
            "| atan | Return the arc tangent (measured in radians) of x. |\n",
            "| atan2 | Return the arc tangent (measured in radians) of y/x. |\n",
            "| atanh | Return the inverse hyperbolic tangent of x. |\n",
            "| cbrt | Return the cube root of x. |\n",
            "| ceil | Return the ceiling of x as an Integral. |\n",
            "| comb | Number of ways to choose k items from n items without repetition and without order. |\n",
            "| copysign | Return a float with the magnitude (absolute value) of x but the sign of y. |\n",
            "| cos | Return the cosine of x (measured in radians). |\n",
            "| cosh | Return the hyperbolic cosine of x. |\n",
            "| degrees | Convert angle x from radians to degrees. |\n",
            "| dist | Return the Euclidean distance between two points p and q. |\n",
            "| e | Convert a string or number to a floating point number, if possible. |\n",
            "| erf | Error function at x. |\n",
            "| erfc | Complementary error function at x. |\n",
            "| exp | Return e raised to the power of x. |\n",
            "| exp2 | Return 2 raised to the power of x. |\n",
            "| expm1 | Return exp(x)-1. |\n",
            "| fabs | Return the absolute value of the float x. |\n",
            "| factorial | Find n!. |\n",
            "| floor | Return the floor of x as an Integral. |\n",
            "| fmod | Return fmod(x, y), according to platform C. |\n",
            "| frexp | Return the mantissa and exponent of x, as pair (m, e). |\n",
            "| fsum | Return an accurate floating point sum of values in the iterable seq. |\n",
            "| gamma | Gamma function at x. |\n",
            "| gcd | Greatest Common Divisor. |\n",
            "| hypot | hypot(*coordinates) -> value |\n",
            "| inf | Convert a string or number to a floating point number, if possible. |\n",
            "| isclose | Determine whether two floating point numbers are close in value. |\n",
            "| isfinite | Return True if x is neither an infinity nor a NaN, and False otherwise. |\n",
            "| isinf | Return True if x is a positive or negative infinity, and False otherwise. |\n",
            "| isnan | Return True if x is a NaN (not a number), and False otherwise. |\n",
            "| isqrt | Return the integer part of the square root of the input. |\n",
            "| lcm | Least Common Multiple. |\n",
            "| ldexp | Return x * (2**i). |\n",
            "| lgamma | Natural logarithm of absolute value of Gamma function at x. |\n",
            "| log | log(x, [base=math.e]) |\n",
            "| log10 | Return the base 10 logarithm of x. |\n",
            "| log1p | Return the natural logarithm of 1+x (base e). |\n",
            "| log2 | Return the base 2 logarithm of x. |\n",
            "| modf | Return the fractional and integer parts of x. |\n",
            "| nan | Convert a string or number to a floating point number, if possible. |\n",
            "| nextafter | Return the next floating-point value after x towards y. |\n",
            "| perm | Number of ways to choose k items from n items without repetition and with order. |\n",
            "| pi | Convert a string or number to a floating point number, if possible. |\n",
            "| pow | Return x**y (x to the power of y). |\n",
            "| prod | Calculate the product of all the elements in the input iterable. |\n",
            "| radians | Convert angle x from degrees to radians. |\n",
            "| remainder | Difference between x and the closest integer multiple of y. |\n",
            "| sin | Return the sine of x (measured in radians). |\n",
            "| sinh | Return the hyperbolic sine of x. |\n",
            "| sqrt | Return the square root of x. |\n",
            "| tan | Return the tangent of x (measured in radians). |\n",
            "| tanh | Return the hyperbolic tangent of x. |\n",
            "| tau | Convert a string or number to a floating point number, if possible. |\n",
            "| trunc | Truncates the Real x to the nearest Integral toward 0. |\n",
            "| ulp | Return the value of the least significant bit of the float x. |\n",
            "\n"
          ]
        }
      ]
    },
    {
      "cell_type": "markdown",
      "metadata": {
        "id": "291a0af9"
      },
      "source": [
        "## Display the table\n",
        "\n",
        "### Subtask:\n",
        "Display the markdown table containing the names and explanations of the math module members.\n"
      ],
      "id": "291a0af9"
    },
    {
      "cell_type": "markdown",
      "metadata": {
        "id": "e7ce4004"
      },
      "source": [
        "**Reasoning**:\n",
        "Display the markdown table stored in the `markdown_table` variable.\n",
        "\n"
      ],
      "id": "e7ce4004"
    },
    {
      "cell_type": "code",
      "metadata": {
        "colab": {
          "base_uri": "https://localhost:8080/"
        },
        "id": "14c1ea80",
        "outputId": "f5dffbf1-a68f-4c79-b197-5de643fe6bcc"
      },
      "source": [
        "print(markdown_table)"
      ],
      "id": "14c1ea80",
      "execution_count": 59,
      "outputs": [
        {
          "output_type": "stream",
          "name": "stdout",
          "text": [
            "| Name | Explanation |\n",
            "|---|---|\n",
            "| __annotations__ | dict() -> new empty dictionary |\n",
            "| __doc__ | str(object='') -> str |\n",
            "| __loader__ | Meta path import for built-in modules. |\n",
            "| __name__ | str(object='') -> str |\n",
            "| __package__ | str(object='') -> str |\n",
            "| __spec__ | The specification for a module, used for loading. |\n",
            "| acos | Return the arc cosine (measured in radians) of x. |\n",
            "| acosh | Return the inverse hyperbolic cosine of x. |\n",
            "| asin | Return the arc sine (measured in radians) of x. |\n",
            "| asinh | Return the inverse hyperbolic sine of x. |\n",
            "| atan | Return the arc tangent (measured in radians) of x. |\n",
            "| atan2 | Return the arc tangent (measured in radians) of y/x. |\n",
            "| atanh | Return the inverse hyperbolic tangent of x. |\n",
            "| cbrt | Return the cube root of x. |\n",
            "| ceil | Return the ceiling of x as an Integral. |\n",
            "| comb | Number of ways to choose k items from n items without repetition and without order. |\n",
            "| copysign | Return a float with the magnitude (absolute value) of x but the sign of y. |\n",
            "| cos | Return the cosine of x (measured in radians). |\n",
            "| cosh | Return the hyperbolic cosine of x. |\n",
            "| degrees | Convert angle x from radians to degrees. |\n",
            "| dist | Return the Euclidean distance between two points p and q. |\n",
            "| e | Convert a string or number to a floating point number, if possible. |\n",
            "| erf | Error function at x. |\n",
            "| erfc | Complementary error function at x. |\n",
            "| exp | Return e raised to the power of x. |\n",
            "| exp2 | Return 2 raised to the power of x. |\n",
            "| expm1 | Return exp(x)-1. |\n",
            "| fabs | Return the absolute value of the float x. |\n",
            "| factorial | Find n!. |\n",
            "| floor | Return the floor of x as an Integral. |\n",
            "| fmod | Return fmod(x, y), according to platform C. |\n",
            "| frexp | Return the mantissa and exponent of x, as pair (m, e). |\n",
            "| fsum | Return an accurate floating point sum of values in the iterable seq. |\n",
            "| gamma | Gamma function at x. |\n",
            "| gcd | Greatest Common Divisor. |\n",
            "| hypot | hypot(*coordinates) -> value |\n",
            "| inf | Convert a string or number to a floating point number, if possible. |\n",
            "| isclose | Determine whether two floating point numbers are close in value. |\n",
            "| isfinite | Return True if x is neither an infinity nor a NaN, and False otherwise. |\n",
            "| isinf | Return True if x is a positive or negative infinity, and False otherwise. |\n",
            "| isnan | Return True if x is a NaN (not a number), and False otherwise. |\n",
            "| isqrt | Return the integer part of the square root of the input. |\n",
            "| lcm | Least Common Multiple. |\n",
            "| ldexp | Return x * (2**i). |\n",
            "| lgamma | Natural logarithm of absolute value of Gamma function at x. |\n",
            "| log | log(x, [base=math.e]) |\n",
            "| log10 | Return the base 10 logarithm of x. |\n",
            "| log1p | Return the natural logarithm of 1+x (base e). |\n",
            "| log2 | Return the base 2 logarithm of x. |\n",
            "| modf | Return the fractional and integer parts of x. |\n",
            "| nan | Convert a string or number to a floating point number, if possible. |\n",
            "| nextafter | Return the next floating-point value after x towards y. |\n",
            "| perm | Number of ways to choose k items from n items without repetition and with order. |\n",
            "| pi | Convert a string or number to a floating point number, if possible. |\n",
            "| pow | Return x**y (x to the power of y). |\n",
            "| prod | Calculate the product of all the elements in the input iterable. |\n",
            "| radians | Convert angle x from degrees to radians. |\n",
            "| remainder | Difference between x and the closest integer multiple of y. |\n",
            "| sin | Return the sine of x (measured in radians). |\n",
            "| sinh | Return the hyperbolic sine of x. |\n",
            "| sqrt | Return the square root of x. |\n",
            "| tan | Return the tangent of x (measured in radians). |\n",
            "| tanh | Return the hyperbolic tangent of x. |\n",
            "| tau | Convert a string or number to a floating point number, if possible. |\n",
            "| trunc | Truncates the Real x to the nearest Integral toward 0. |\n",
            "| ulp | Return the value of the least significant bit of the float x. |\n",
            "\n"
          ]
        }
      ]
    },
    {
      "cell_type": "markdown",
      "metadata": {
        "id": "b3595e00"
      },
      "source": [
        "## Summary:\n",
        "\n",
        "### Data Analysis Key Findings\n",
        "\n",
        "* The process successfully retrieved the names of variables and functions within the `math` module using `dir(math)`.\n",
        "* Documentation (docstrings) was successfully extracted for each member of the `math` module, with handling for cases where documentation was missing or inaccessible. The first line of the docstring was used as the explanation.\n",
        "* The collected names and explanations were formatted into a markdown table with 'Name' and 'Explanation' columns.\n",
        "\n",
        "### Insights or Next Steps\n",
        "\n",
        "* The generated markdown table provides a quick reference for understanding the purpose of each variable and function in the `math` module based on their docstrings.\n",
        "* This process could be extended to other Python modules to generate similar documentation summaries.\n"
      ],
      "id": "b3595e00"
    },
    {
      "cell_type": "code",
      "source": [
        "import os\n",
        "\n",
        "# Get all names defined in the math module\n",
        "math_contents = dir(os)\n",
        "\n",
        "# Print the names (variables and functions)\n",
        "print(math_contents)\n",
        "\n",
        "math_docs = []\n",
        "for name in math_contents:\n",
        "    try:\n",
        "        doc = getattr(math, name).__doc__\n",
        "        if doc is None or doc.strip() == \"\":\n",
        "            explanation = \"No documentation available.\"\n",
        "        else:\n",
        "            explanation = doc.strip().split('\\n')[0] # Take the first line of the docstring\n",
        "    except AttributeError:\n",
        "        explanation = \"Could not retrieve documentation.\"\n",
        "    math_docs.append({'Name': name, 'Explanation': explanation})\n",
        "\n",
        "markdown_table = \"| Name | Explanation |\\n\"\n",
        "markdown_table += \"|---|---|\\n\"\n",
        "\n",
        "for item in math_docs:\n",
        "    markdown_table += f\"| {item['Name']} | {item['Explanation']} |\\n\"\n",
        "\n",
        "print(markdown_table)"
      ],
      "metadata": {
        "id": "ZUW7eFfxS6Hh"
      },
      "id": "ZUW7eFfxS6Hh",
      "execution_count": null,
      "outputs": []
    },
    {
      "cell_type": "code",
      "source": [],
      "metadata": {
        "id": "VtFuiRRpS52D"
      },
      "id": "VtFuiRRpS52D",
      "execution_count": null,
      "outputs": []
    }
  ],
  "metadata": {
    "celltoolbar": "Tags",
    "kernelspec": {
      "display_name": "Python 3 (ipykernel)",
      "language": "python",
      "name": "python3"
    },
    "language_info": {
      "codemirror_mode": {
        "name": "ipython",
        "version": 3
      },
      "file_extension": ".py",
      "mimetype": "text/x-python",
      "name": "python",
      "nbconvert_exporter": "python",
      "pygments_lexer": "ipython3",
      "version": "3.10.11"
    },
    "vscode": {
      "interpreter": {
        "hash": "357b915890fbc73e00b3ee3cc7035b34e6189554c2854644fe780ff20c2fdfc0"
      }
    },
    "colab": {
      "provenance": [],
      "include_colab_link": true
    }
  },
  "nbformat": 4,
  "nbformat_minor": 5
}